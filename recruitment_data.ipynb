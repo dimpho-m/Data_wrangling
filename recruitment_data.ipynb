{
 "cells": [
  {
   "cell_type": "markdown",
   "metadata": {},
   "source": [
    "# Recruitment Data \n",
    "\n",
    "The following notebook will explore data wrangling with the use of recruitment personality scores data. Applicants are required to complete a personality survey and that data is used as input for this notebook. The five factors observed in the survey are Openness, Conscientiousness, Extraversion, Agreeableness and Neuroticsm or Emotional stability (OCEAN). These traits will form the subscale for the various data aplications and manipulations below. The structure of the notebook is as follows: \n",
    "\n",
    "###### 1. Data Validation: \n",
    "The data from the personality scores file is read in and checked for unique entries.\n",
    "\n",
    "###### 2. Subscale calculation: \n",
    "A function is defined to take in and convert the answers from the personality survey to numbers. The total scores for each subscale are then calculated. \n",
    "\n",
    "###### 3. Subscale interpretation: \n",
    "A function is defined that takes in subscale totals as a parameter and returns a new dataframe with a new column that labels the subscale score as 'high', 'medium' or 'low', which we will henceforth refer to as the score category . \n",
    "\n",
    "###### 4. Merge dataframes: \n",
    "The department dataframe is merged with the personality score dataframe, retaining all applicants within the various departments. \n",
    "\n",
    "###### 5. Data Visualization: \n",
    "A histogram plotting the personality scores with the various departments is depicted. \n",
    "\n",
    "###### 6. Dataframe Filtration\n",
    "The merged dataframe is filtered for candidates that have a 'low' label on the Neuroticsm, Conscientiousness and Agreeableness traits. Such identified candidates, by department, are placed in a new column with the tag 'high risk'. \n",
    "\n",
    "###### 7. Count Dataframe\n",
    "A new dataframe is made with the count of the number of applicants in each score category within each subscale and department. "
   ]
  },
  {
   "cell_type": "markdown",
   "metadata": {},
   "source": [
    "## Data Validation\n",
    "The code below removes the duplicates and drops all null-valued columns. There are 1555 unique entries meaning 1555 applicants and 50 questions on the survey as represented by each column "
   ]
  },
  {
   "cell_type": "code",
   "execution_count": 2,
   "metadata": {
    "ExecuteTime": {
     "end_time": "2020-03-17T03:02:12.573357Z",
     "start_time": "2020-03-17T03:02:10.813925Z"
    }
   },
   "outputs": [],
   "source": [
    "#Packages necessary to execute data manipulation and analysis are imported \n",
    "import numpy as np \n",
    "import pandas as pd \n",
    "import matplotlib.pyplot as plt\n",
    "import re"
   ]
  },
  {
   "cell_type": "code",
   "execution_count": 3,
   "metadata": {
    "ExecuteTime": {
     "end_time": "2020-03-17T03:02:12.754488Z",
     "start_time": "2020-03-17T03:02:12.580302Z"
    }
   },
   "outputs": [
    {
     "name": "stdout",
     "output_type": "stream",
     "text": [
      "<class 'pandas.core.frame.DataFrame'>\n",
      "RangeIndex: 1555 entries, 0 to 1554\n",
      "Data columns (total 70 columns):\n",
      "ID                                                                          1555 non-null int64\n",
      "Section 5 of 6 [I am always prepared.]                                      1555 non-null object\n",
      "Section 5 of 6 [I am easily disturbed.]                                     1555 non-null object\n",
      "Section 5 of 6 [I am exacting (demanding) in my work.]                      1555 non-null object\n",
      "Section 5 of 6 [I am full of ideas.]                                        1555 non-null object\n",
      "Section 5 of 6 [I am interested in people.]                                 1555 non-null object\n",
      "Section 5 of 6 [I am not interested in abstract ideas.]                     1555 non-null object\n",
      "Section 5 of 6 [I am not interested in other people's problems.]            1555 non-null object\n",
      "Section 5 of 6 [I am not really interested in others.]                      1555 non-null object\n",
      "Section 5 of 6 [I am quick to understand things.]                           1555 non-null object\n",
      "Section 5 of 6 [I am quiet around strangers.]                               1555 non-null object\n",
      "Section 5 of 6 [I am relaxed most of the time.]                             1555 non-null object\n",
      "Section 5 of 6 [I am the life of the party.]                                1555 non-null object\n",
      "Section 5 of 6 [I change my mood a lot.]                                    1555 non-null object\n",
      "Section 5 of 6 [I do not have a good imagination.]                          1555 non-null object\n",
      "Section 5 of 6 [I don't like to draw attention to myself.]                  1555 non-null object\n",
      "Section 5 of 6 [I don't mind being the center of attention.]                1555 non-null object\n",
      "Section 5 of 6 [I don't talk a lot.]                                        1555 non-null object\n",
      "Section 5 of 6 [I feel comfortable around people.]                          1555 non-null object\n",
      "Section 5 of 6 [I feel little concern for others.]                          1555 non-null object\n",
      "Section 5 of 6 [I feel others' emotions.]                                   1555 non-null object\n",
      "Section 5 of 6 [I follow a schedule.]                                       1555 non-null object\n",
      "Section 5 of 6 [I get chores done right away.]                              1555 non-null object\n",
      "Section 5 of 6 [I get irritated easily.]                                    1555 non-null object\n",
      "Section 5 of 6 [I get stressed out easily.]                                 1555 non-null object\n",
      "Section 5 of 6 [I get upset easily.]                                        1555 non-null object\n",
      "Section 5 of 6 [I have a rich vocabulary.]                                  1555 non-null object\n",
      "Section 5 of 6 [I have a soft (kind) heart.]                                1555 non-null object\n",
      "Section 5 of 6 [I have a vivid imagination.]                                1555 non-null object\n",
      "Section 5 of 6 [I have difficulty understanding abstract ideas.]            1555 non-null object\n",
      "Section 5 of 6 [I have excellent ideas.]                                    1555 non-null object\n",
      "Section 5 of 6 [I have frequent mood swings.]                               1555 non-null object\n",
      "Section 5 of 6 [I have little to say.]                                      1555 non-null object\n",
      "Section 5 of 6 [I insult people.]                                           1555 non-null object\n",
      "Section 5 of 6 [I keep in the background.]                                  1555 non-null object\n",
      "Section 5 of 6 [I leave my belongings lying around.]                        1555 non-null object\n",
      "Section 5 of 6 [I like order.]                                              1555 non-null object\n",
      "Section 5 of 6 [I make a mess of things.]                                   1555 non-null object\n",
      "Section 5 of 6 [I make people feel at ease.]                                1555 non-null object\n",
      "Section 5 of 6 [I neglect my duties.]                                       1555 non-null object\n",
      "Section 5 of 6 [I often feel blue (down).]                                  1555 non-null object\n",
      "Section 5 of 6 [I often forget to put things back in their proper place]    1555 non-null object\n",
      "Section 5 of 6 [I pay attention to details.]                                1555 non-null object\n",
      "Section 5 of 6 [I seldom feel blue (down).]                                 1555 non-null object\n",
      "Section 5 of 6 [I spend time reflecting on things.]                         1555 non-null object\n",
      "Section 5 of 6 [I start conversations.]                                     1555 non-null object\n",
      "Section 5 of 6 [I sympathize with others' feelings.]                        1555 non-null object\n",
      "Section 5 of 6 [I take time out for others.]                                1555 non-null object\n",
      "Section 5 of 6 [I talk to a lot of different people at parties.]            1555 non-null object\n",
      "Section 5 of 6 [I use difficult words.]                                     1555 non-null object\n",
      "Section 5 of 6 [I worry about things.]                                      1555 non-null object\n",
      "Unnamed: 51                                                                 0 non-null float64\n",
      "Unnamed: 52                                                                 0 non-null float64\n",
      "Unnamed: 53                                                                 0 non-null float64\n",
      "Unnamed: 54                                                                 0 non-null float64\n",
      "Unnamed: 55                                                                 0 non-null float64\n",
      "Unnamed: 56                                                                 0 non-null float64\n",
      "Unnamed: 57                                                                 0 non-null float64\n",
      "Unnamed: 58                                                                 0 non-null float64\n",
      "Unnamed: 59                                                                 0 non-null float64\n",
      "Unnamed: 60                                                                 0 non-null float64\n",
      "Unnamed: 61                                                                 0 non-null float64\n",
      "Unnamed: 62                                                                 0 non-null float64\n",
      "Unnamed: 63                                                                 0 non-null float64\n",
      "Unnamed: 64                                                                 0 non-null float64\n",
      "Unnamed: 65                                                                 0 non-null float64\n",
      "Unnamed: 66                                                                 0 non-null float64\n",
      "Unnamed: 67                                                                 0 non-null float64\n",
      "Unnamed: 68                                                                 0 non-null float64\n",
      "IPIP_HIGH_RISK                                                              0 non-null float64\n",
      "dtypes: float64(19), int64(1), object(50)\n",
      "memory usage: 850.5+ KB\n",
      "(1555, 50)\n"
     ]
    },
    {
     "data": {
      "text/html": [
       "<div>\n",
       "<style scoped>\n",
       "    .dataframe tbody tr th:only-of-type {\n",
       "        vertical-align: middle;\n",
       "    }\n",
       "\n",
       "    .dataframe tbody tr th {\n",
       "        vertical-align: top;\n",
       "    }\n",
       "\n",
       "    .dataframe thead th {\n",
       "        text-align: right;\n",
       "    }\n",
       "</style>\n",
       "<table border=\"1\" class=\"dataframe\">\n",
       "  <thead>\n",
       "    <tr style=\"text-align: right;\">\n",
       "      <th></th>\n",
       "      <th>Section 5 of 6 [I am always prepared.]</th>\n",
       "      <th>Section 5 of 6 [I am easily disturbed.]</th>\n",
       "      <th>Section 5 of 6 [I am exacting (demanding) in my work.]</th>\n",
       "      <th>Section 5 of 6 [I am full of ideas.]</th>\n",
       "      <th>Section 5 of 6 [I am interested in people.]</th>\n",
       "      <th>Section 5 of 6 [I am not interested in abstract ideas.]</th>\n",
       "      <th>Section 5 of 6 [I am not interested in other people's problems.]</th>\n",
       "      <th>Section 5 of 6 [I am not really interested in others.]</th>\n",
       "      <th>Section 5 of 6 [I am quick to understand things.]</th>\n",
       "      <th>Section 5 of 6 [I am quiet around strangers.]</th>\n",
       "      <th>...</th>\n",
       "      <th>Section 5 of 6 [I often forget to put things back in their proper place]</th>\n",
       "      <th>Section 5 of 6 [I pay attention to details.]</th>\n",
       "      <th>Section 5 of 6 [I seldom feel blue (down).]</th>\n",
       "      <th>Section 5 of 6 [I spend time reflecting on things.]</th>\n",
       "      <th>Section 5 of 6 [I start conversations.]</th>\n",
       "      <th>Section 5 of 6 [I sympathize with others' feelings.]</th>\n",
       "      <th>Section 5 of 6 [I take time out for others.]</th>\n",
       "      <th>Section 5 of 6 [I talk to a lot of different people at parties.]</th>\n",
       "      <th>Section 5 of 6 [I use difficult words.]</th>\n",
       "      <th>Section 5 of 6 [I worry about things.]</th>\n",
       "    </tr>\n",
       "    <tr>\n",
       "      <th>ID</th>\n",
       "      <th></th>\n",
       "      <th></th>\n",
       "      <th></th>\n",
       "      <th></th>\n",
       "      <th></th>\n",
       "      <th></th>\n",
       "      <th></th>\n",
       "      <th></th>\n",
       "      <th></th>\n",
       "      <th></th>\n",
       "      <th></th>\n",
       "      <th></th>\n",
       "      <th></th>\n",
       "      <th></th>\n",
       "      <th></th>\n",
       "      <th></th>\n",
       "      <th></th>\n",
       "      <th></th>\n",
       "      <th></th>\n",
       "      <th></th>\n",
       "      <th></th>\n",
       "    </tr>\n",
       "  </thead>\n",
       "  <tbody>\n",
       "    <tr>\n",
       "      <th>0</th>\n",
       "      <td>(3, 5)</td>\n",
       "      <td>(4, 5)</td>\n",
       "      <td>(3, 5)</td>\n",
       "      <td>(5, 5)</td>\n",
       "      <td>(2, 3)</td>\n",
       "      <td>(5, 3)</td>\n",
       "      <td>(2, 3)</td>\n",
       "      <td>(2, 5)</td>\n",
       "      <td>(5, 5)</td>\n",
       "      <td>(1, 3)</td>\n",
       "      <td>...</td>\n",
       "      <td>(3, 5)</td>\n",
       "      <td>(3, 5)</td>\n",
       "      <td>(4, 3)</td>\n",
       "      <td>(5, 5)</td>\n",
       "      <td>(1, 3)</td>\n",
       "      <td>(2, 5)</td>\n",
       "      <td>(2, 5)</td>\n",
       "      <td>(1, 3)</td>\n",
       "      <td>(5, 1)</td>\n",
       "      <td>(4, 3)</td>\n",
       "    </tr>\n",
       "    <tr>\n",
       "      <th>1</th>\n",
       "      <td>(3, 5)</td>\n",
       "      <td>(4, 5)</td>\n",
       "      <td>(3, 5)</td>\n",
       "      <td>(5, 5)</td>\n",
       "      <td>(2, 5)</td>\n",
       "      <td>(5, 3)</td>\n",
       "      <td>(2, 5)</td>\n",
       "      <td>(2, 5)</td>\n",
       "      <td>(5, 5)</td>\n",
       "      <td>(1, 3)</td>\n",
       "      <td>...</td>\n",
       "      <td>(3, 5)</td>\n",
       "      <td>(3, 1)</td>\n",
       "      <td>(4, 1)</td>\n",
       "      <td>(5, 5)</td>\n",
       "      <td>(1, 5)</td>\n",
       "      <td>(2, 5)</td>\n",
       "      <td>(2, 5)</td>\n",
       "      <td>(1, 5)</td>\n",
       "      <td>(5, 3)</td>\n",
       "      <td>(4, 3)</td>\n",
       "    </tr>\n",
       "    <tr>\n",
       "      <th>2</th>\n",
       "      <td>(3, 5)</td>\n",
       "      <td>(4, 3)</td>\n",
       "      <td>(3, 3)</td>\n",
       "      <td>(5, 5)</td>\n",
       "      <td>(2, 5)</td>\n",
       "      <td>(5, 5)</td>\n",
       "      <td>(2, 5)</td>\n",
       "      <td>(2, 5)</td>\n",
       "      <td>(5, 5)</td>\n",
       "      <td>(1, 1)</td>\n",
       "      <td>...</td>\n",
       "      <td>(3, 5)</td>\n",
       "      <td>(3, 5)</td>\n",
       "      <td>(4, 1)</td>\n",
       "      <td>(5, 3)</td>\n",
       "      <td>(1, 3)</td>\n",
       "      <td>(2, 5)</td>\n",
       "      <td>(2, 5)</td>\n",
       "      <td>(1, 3)</td>\n",
       "      <td>(5, 1)</td>\n",
       "      <td>(4, 3)</td>\n",
       "    </tr>\n",
       "    <tr>\n",
       "      <th>3</th>\n",
       "      <td>(3, 5)</td>\n",
       "      <td>(4, 5)</td>\n",
       "      <td>(3, 3)</td>\n",
       "      <td>(5, 5)</td>\n",
       "      <td>(2, 5)</td>\n",
       "      <td>(5, 3)</td>\n",
       "      <td>(2, 3)</td>\n",
       "      <td>(2, 3)</td>\n",
       "      <td>(5, 3)</td>\n",
       "      <td>(1, 3)</td>\n",
       "      <td>...</td>\n",
       "      <td>(3, 1)</td>\n",
       "      <td>(3, 5)</td>\n",
       "      <td>(4, 1)</td>\n",
       "      <td>(5, 5)</td>\n",
       "      <td>(1, 5)</td>\n",
       "      <td>(2, 5)</td>\n",
       "      <td>(2, 5)</td>\n",
       "      <td>(1, 5)</td>\n",
       "      <td>(5, 1)</td>\n",
       "      <td>(4, 1)</td>\n",
       "    </tr>\n",
       "    <tr>\n",
       "      <th>4</th>\n",
       "      <td>(3, 3)</td>\n",
       "      <td>(4, 5)</td>\n",
       "      <td>(3, 3)</td>\n",
       "      <td>(5, 3)</td>\n",
       "      <td>(2, 3)</td>\n",
       "      <td>(5, 3)</td>\n",
       "      <td>(2, 3)</td>\n",
       "      <td>(2, 3)</td>\n",
       "      <td>(5, 5)</td>\n",
       "      <td>(1, 1)</td>\n",
       "      <td>...</td>\n",
       "      <td>(3, 5)</td>\n",
       "      <td>(3, 5)</td>\n",
       "      <td>(4, 5)</td>\n",
       "      <td>(5, 5)</td>\n",
       "      <td>(1, 3)</td>\n",
       "      <td>(2, 3)</td>\n",
       "      <td>(2, 5)</td>\n",
       "      <td>(1, 3)</td>\n",
       "      <td>(5, 1)</td>\n",
       "      <td>(4, 3)</td>\n",
       "    </tr>\n",
       "  </tbody>\n",
       "</table>\n",
       "<p>5 rows × 50 columns</p>\n",
       "</div>"
      ],
      "text/plain": [
       "   Section 5 of 6 [I am always prepared.]  \\\n",
       "ID                                          \n",
       "0                                  (3, 5)   \n",
       "1                                  (3, 5)   \n",
       "2                                  (3, 5)   \n",
       "3                                  (3, 5)   \n",
       "4                                  (3, 3)   \n",
       "\n",
       "   Section 5 of 6 [I am easily disturbed.]  \\\n",
       "ID                                           \n",
       "0                                   (4, 5)   \n",
       "1                                   (4, 5)   \n",
       "2                                   (4, 3)   \n",
       "3                                   (4, 5)   \n",
       "4                                   (4, 5)   \n",
       "\n",
       "   Section 5 of 6 [I am exacting (demanding) in my work.]  \\\n",
       "ID                                                          \n",
       "0                                              (3, 5)       \n",
       "1                                              (3, 5)       \n",
       "2                                              (3, 3)       \n",
       "3                                              (3, 3)       \n",
       "4                                              (3, 3)       \n",
       "\n",
       "   Section 5 of 6 [I am full of ideas.]  \\\n",
       "ID                                        \n",
       "0                                (5, 5)   \n",
       "1                                (5, 5)   \n",
       "2                                (5, 5)   \n",
       "3                                (5, 5)   \n",
       "4                                (5, 3)   \n",
       "\n",
       "   Section 5 of 6 [I am interested in people.]  \\\n",
       "ID                                               \n",
       "0                                       (2, 3)   \n",
       "1                                       (2, 5)   \n",
       "2                                       (2, 5)   \n",
       "3                                       (2, 5)   \n",
       "4                                       (2, 3)   \n",
       "\n",
       "   Section 5 of 6 [I am not interested in abstract ideas.]  \\\n",
       "ID                                                           \n",
       "0                                              (5, 3)        \n",
       "1                                              (5, 3)        \n",
       "2                                              (5, 5)        \n",
       "3                                              (5, 3)        \n",
       "4                                              (5, 3)        \n",
       "\n",
       "   Section 5 of 6 [I am not interested in other people's problems.]  \\\n",
       "ID                                                                    \n",
       "0                                              (2, 3)                 \n",
       "1                                              (2, 5)                 \n",
       "2                                              (2, 5)                 \n",
       "3                                              (2, 3)                 \n",
       "4                                              (2, 3)                 \n",
       "\n",
       "   Section 5 of 6 [I am not really interested in others.]  \\\n",
       "ID                                                          \n",
       "0                                              (2, 5)       \n",
       "1                                              (2, 5)       \n",
       "2                                              (2, 5)       \n",
       "3                                              (2, 3)       \n",
       "4                                              (2, 3)       \n",
       "\n",
       "   Section 5 of 6 [I am quick to understand things.]  \\\n",
       "ID                                                     \n",
       "0                                             (5, 5)   \n",
       "1                                             (5, 5)   \n",
       "2                                             (5, 5)   \n",
       "3                                             (5, 3)   \n",
       "4                                             (5, 5)   \n",
       "\n",
       "   Section 5 of 6 [I am quiet around strangers.]  ...  \\\n",
       "ID                                                ...   \n",
       "0                                         (1, 3)  ...   \n",
       "1                                         (1, 3)  ...   \n",
       "2                                         (1, 1)  ...   \n",
       "3                                         (1, 3)  ...   \n",
       "4                                         (1, 1)  ...   \n",
       "\n",
       "   Section 5 of 6 [I often forget to put things back in their proper place]  \\\n",
       "ID                                                                            \n",
       "0                                              (3, 5)                         \n",
       "1                                              (3, 5)                         \n",
       "2                                              (3, 5)                         \n",
       "3                                              (3, 1)                         \n",
       "4                                              (3, 5)                         \n",
       "\n",
       "   Section 5 of 6 [I pay attention to details.]  \\\n",
       "ID                                                \n",
       "0                                        (3, 5)   \n",
       "1                                        (3, 1)   \n",
       "2                                        (3, 5)   \n",
       "3                                        (3, 5)   \n",
       "4                                        (3, 5)   \n",
       "\n",
       "   Section 5 of 6 [I seldom feel blue (down).]  \\\n",
       "ID                                               \n",
       "0                                       (4, 3)   \n",
       "1                                       (4, 1)   \n",
       "2                                       (4, 1)   \n",
       "3                                       (4, 1)   \n",
       "4                                       (4, 5)   \n",
       "\n",
       "   Section 5 of 6 [I spend time reflecting on things.]  \\\n",
       "ID                                                       \n",
       "0                                              (5, 5)    \n",
       "1                                              (5, 5)    \n",
       "2                                              (5, 3)    \n",
       "3                                              (5, 5)    \n",
       "4                                              (5, 5)    \n",
       "\n",
       "   Section 5 of 6 [I start conversations.]  \\\n",
       "ID                                           \n",
       "0                                   (1, 3)   \n",
       "1                                   (1, 5)   \n",
       "2                                   (1, 3)   \n",
       "3                                   (1, 5)   \n",
       "4                                   (1, 3)   \n",
       "\n",
       "   Section 5 of 6 [I sympathize with others' feelings.]  \\\n",
       "ID                                                        \n",
       "0                                              (2, 5)     \n",
       "1                                              (2, 5)     \n",
       "2                                              (2, 5)     \n",
       "3                                              (2, 5)     \n",
       "4                                              (2, 3)     \n",
       "\n",
       "   Section 5 of 6 [I take time out for others.]  \\\n",
       "ID                                                \n",
       "0                                        (2, 5)   \n",
       "1                                        (2, 5)   \n",
       "2                                        (2, 5)   \n",
       "3                                        (2, 5)   \n",
       "4                                        (2, 5)   \n",
       "\n",
       "   Section 5 of 6 [I talk to a lot of different people at parties.]  \\\n",
       "ID                                                                    \n",
       "0                                              (1, 3)                 \n",
       "1                                              (1, 5)                 \n",
       "2                                              (1, 3)                 \n",
       "3                                              (1, 5)                 \n",
       "4                                              (1, 3)                 \n",
       "\n",
       "   Section 5 of 6 [I use difficult words.]  \\\n",
       "ID                                           \n",
       "0                                   (5, 1)   \n",
       "1                                   (5, 3)   \n",
       "2                                   (5, 1)   \n",
       "3                                   (5, 1)   \n",
       "4                                   (5, 1)   \n",
       "\n",
       "   Section 5 of 6 [I worry about things.]  \n",
       "ID                                         \n",
       "0                                  (4, 3)  \n",
       "1                                  (4, 3)  \n",
       "2                                  (4, 3)  \n",
       "3                                  (4, 1)  \n",
       "4                                  (4, 3)  \n",
       "\n",
       "[5 rows x 50 columns]"
      ]
     },
     "execution_count": 3,
     "metadata": {},
     "output_type": "execute_result"
    }
   ],
   "source": [
    "# The input data is read in, checked and duplicates are removed\n",
    "scores = pd.read_csv('personality_scores.csv', sep = ';', header = 0)\n",
    "scores.info()\n",
    "pers_scores = scores.drop_duplicates(subset = 'ID', keep = 'first')\n",
    "prsnl_scores = pers_scores.set_index('ID')\n",
    "prsnl_scores.dropna(axis = 1, how = 'all', inplace = True)\n",
    "print(prsnl_scores.shape)\n",
    "prsnl_scores.head()"
   ]
  },
  {
   "cell_type": "markdown",
   "metadata": {},
   "source": [
    "## Subscale calculation \n",
    "A function is defined to take in and convert the answers from the personality survey to numbers and then the total scores for each subscale are calculated. "
   ]
  },
  {
   "cell_type": "code",
   "execution_count": 4,
   "metadata": {
    "ExecuteTime": {
     "end_time": "2020-03-17T03:02:12.775922Z",
     "start_time": "2020-03-17T03:02:12.766047Z"
    }
   },
   "outputs": [],
   "source": [
    "# A function is defined that finds the numbers in a string and returns a list of dictionaries \n",
    "def subscale_totals (df_row):\n",
    "    row_dict = {1:0, 2:0, 3:0, 4:0, 5:0}\n",
    "    \n",
    "    for string_pair in df_row:\n",
    "        num_list = [int(s) for s in re.findall('\\d+', str(string_pair))]  \n",
    "# Sum values(answers) to their respective subscales in row dictionaries\n",
    "        row_dict[num_list[0]] += num_list[1]\n",
    "    \n",
    "    return row_dict"
   ]
  },
  {
   "cell_type": "code",
   "execution_count": 5,
   "metadata": {
    "ExecuteTime": {
     "end_time": "2020-03-17T03:02:17.142979Z",
     "start_time": "2020-03-17T03:02:12.780580Z"
    }
   },
   "outputs": [
    {
     "data": {
      "text/html": [
       "<div>\n",
       "<style scoped>\n",
       "    .dataframe tbody tr th:only-of-type {\n",
       "        vertical-align: middle;\n",
       "    }\n",
       "\n",
       "    .dataframe tbody tr th {\n",
       "        vertical-align: top;\n",
       "    }\n",
       "\n",
       "    .dataframe thead th {\n",
       "        text-align: right;\n",
       "    }\n",
       "</style>\n",
       "<table border=\"1\" class=\"dataframe\">\n",
       "  <thead>\n",
       "    <tr style=\"text-align: right;\">\n",
       "      <th></th>\n",
       "      <th>Extraversion</th>\n",
       "      <th>Agreeableness</th>\n",
       "      <th>Conscientiousness</th>\n",
       "      <th>Neuroticism</th>\n",
       "      <th>Openness</th>\n",
       "    </tr>\n",
       "  </thead>\n",
       "  <tbody>\n",
       "    <tr>\n",
       "      <th>0</th>\n",
       "      <td>30.0</td>\n",
       "      <td>40.0</td>\n",
       "      <td>48.0</td>\n",
       "      <td>36.0</td>\n",
       "      <td>42.0</td>\n",
       "    </tr>\n",
       "    <tr>\n",
       "      <th>1</th>\n",
       "      <td>42.0</td>\n",
       "      <td>46.0</td>\n",
       "      <td>46.0</td>\n",
       "      <td>40.0</td>\n",
       "      <td>42.0</td>\n",
       "    </tr>\n",
       "    <tr>\n",
       "      <th>2</th>\n",
       "      <td>28.0</td>\n",
       "      <td>40.0</td>\n",
       "      <td>40.0</td>\n",
       "      <td>38.0</td>\n",
       "      <td>42.0</td>\n",
       "    </tr>\n",
       "    <tr>\n",
       "      <th>3</th>\n",
       "      <td>30.0</td>\n",
       "      <td>38.0</td>\n",
       "      <td>38.0</td>\n",
       "      <td>40.0</td>\n",
       "      <td>38.0</td>\n",
       "    </tr>\n",
       "    <tr>\n",
       "      <th>4</th>\n",
       "      <td>28.0</td>\n",
       "      <td>34.0</td>\n",
       "      <td>46.0</td>\n",
       "      <td>38.0</td>\n",
       "      <td>36.0</td>\n",
       "    </tr>\n",
       "  </tbody>\n",
       "</table>\n",
       "</div>"
      ],
      "text/plain": [
       "   Extraversion  Agreeableness  Conscientiousness  Neuroticism  Openness\n",
       "0          30.0           40.0               48.0         36.0      42.0\n",
       "1          42.0           46.0               46.0         40.0      42.0\n",
       "2          28.0           40.0               40.0         38.0      42.0\n",
       "3          30.0           38.0               38.0         40.0      38.0\n",
       "4          28.0           34.0               46.0         38.0      36.0"
      ]
     },
     "execution_count": 5,
     "metadata": {},
     "output_type": "execute_result"
    }
   ],
   "source": [
    "# New dataframes are created; one empty and another the same shape as the original personality scores df with only the \n",
    "# values of that dataframe. The function above is passed to the latter. \n",
    "values_df = pd.DataFrame(prsnl_scores.values, index = prsnl_scores.index)\n",
    "new_df = values_df.apply(subscale_totals, axis = 1)\n",
    "subscale_df = pd.DataFrame()\n",
    "\n",
    "# A for loop is used to populate the empty subscale dataframe by appending dictionaries to it.\n",
    "for d in new_df: \n",
    "    subscale_df = subscale_df.append(d, ignore_index = True) \n",
    "subscale_df.columns = ['Extraversion','Agreeableness','Conscientiousness', 'Neuroticism','Openness']\n",
    "subscale_df.head()"
   ]
  },
  {
   "cell_type": "markdown",
   "metadata": {},
   "source": [
    "## Subscale interpretation \n",
    "A function is defined that takes in subscale totals as a parameter and returns a new dataframe with a new column that labels the subscale score as 'high', 'medium' or 'low', which we will henceforth refer to as the score category . "
   ]
  },
  {
   "cell_type": "code",
   "execution_count": 6,
   "metadata": {
    "ExecuteTime": {
     "end_time": "2020-03-17T03:02:17.159434Z",
     "start_time": "2020-03-17T03:02:17.147990Z"
    }
   },
   "outputs": [],
   "source": [
    "# The interpretation function is defined with subscale totals as a parameter\n",
    "def generate_score_interpretation(total):\n",
    "\n",
    "    for col in subscale_df.columns:\n",
    "        high = subscale_df.loc[:, col].mean() + ((subscale_df.loc[:, col].std())/2)\n",
    "        low = subscale_df.loc[:, col].mean() - ((subscale_df.loc[:, col].std())/2)\n",
    "        \n",
    "        if total >= high: \n",
    "            return 'high' \n",
    "\n",
    "        elif total < high and total > low: \n",
    "            return 'medium'\n",
    "        \n",
    "        else :\n",
    "            return 'low'"
   ]
  },
  {
   "cell_type": "code",
   "execution_count": 7,
   "metadata": {
    "ExecuteTime": {
     "end_time": "2020-03-17T03:02:22.645075Z",
     "start_time": "2020-03-17T03:02:17.164961Z"
    },
    "scrolled": true
   },
   "outputs": [
    {
     "data": {
      "text/html": [
       "<div>\n",
       "<style scoped>\n",
       "    .dataframe tbody tr th:only-of-type {\n",
       "        vertical-align: middle;\n",
       "    }\n",
       "\n",
       "    .dataframe tbody tr th {\n",
       "        vertical-align: top;\n",
       "    }\n",
       "\n",
       "    .dataframe thead th {\n",
       "        text-align: right;\n",
       "    }\n",
       "</style>\n",
       "<table border=\"1\" class=\"dataframe\">\n",
       "  <thead>\n",
       "    <tr style=\"text-align: right;\">\n",
       "      <th></th>\n",
       "      <th>Extraversion_Interpretation</th>\n",
       "      <th>Agreeableness_Interpretation</th>\n",
       "      <th>Conscientiousness_Interpretation</th>\n",
       "      <th>Neuroticism_Interpretation</th>\n",
       "      <th>Openness_Interpretation</th>\n",
       "    </tr>\n",
       "  </thead>\n",
       "  <tbody>\n",
       "    <tr>\n",
       "      <th>0</th>\n",
       "      <td>medium</td>\n",
       "      <td>high</td>\n",
       "      <td>high</td>\n",
       "      <td>high</td>\n",
       "      <td>high</td>\n",
       "    </tr>\n",
       "    <tr>\n",
       "      <th>1</th>\n",
       "      <td>high</td>\n",
       "      <td>high</td>\n",
       "      <td>high</td>\n",
       "      <td>high</td>\n",
       "      <td>high</td>\n",
       "    </tr>\n",
       "    <tr>\n",
       "      <th>2</th>\n",
       "      <td>medium</td>\n",
       "      <td>high</td>\n",
       "      <td>high</td>\n",
       "      <td>high</td>\n",
       "      <td>high</td>\n",
       "    </tr>\n",
       "    <tr>\n",
       "      <th>3</th>\n",
       "      <td>medium</td>\n",
       "      <td>high</td>\n",
       "      <td>high</td>\n",
       "      <td>high</td>\n",
       "      <td>high</td>\n",
       "    </tr>\n",
       "    <tr>\n",
       "      <th>4</th>\n",
       "      <td>medium</td>\n",
       "      <td>medium</td>\n",
       "      <td>high</td>\n",
       "      <td>high</td>\n",
       "      <td>high</td>\n",
       "    </tr>\n",
       "  </tbody>\n",
       "</table>\n",
       "</div>"
      ],
      "text/plain": [
       "  Extraversion_Interpretation Agreeableness_Interpretation  \\\n",
       "0                      medium                         high   \n",
       "1                        high                         high   \n",
       "2                      medium                         high   \n",
       "3                      medium                         high   \n",
       "4                      medium                       medium   \n",
       "\n",
       "  Conscientiousness_Interpretation Neuroticism_Interpretation  \\\n",
       "0                             high                       high   \n",
       "1                             high                       high   \n",
       "2                             high                       high   \n",
       "3                             high                       high   \n",
       "4                             high                       high   \n",
       "\n",
       "  Openness_Interpretation  \n",
       "0                    high  \n",
       "1                    high  \n",
       "2                    high  \n",
       "3                    high  \n",
       "4                    high  "
      ]
     },
     "execution_count": 7,
     "metadata": {},
     "output_type": "execute_result"
    }
   ],
   "source": [
    "# A headerless dataframe is created with the same shape and values as the subscale df. The function above is passed to \n",
    "# this dataframe to interpret the subscale totals. \n",
    "totals_df = pd.DataFrame(subscale_df.values, index = subscale_df.index)\n",
    "sub_interp = totals_df.applymap(generate_score_interpretation)\n",
    "sub_interp.columns = ['Extraversion_Interpretation','Agreeableness_Interpretation','Conscientiousness_Interpretation', 'Neuroticism_Interpretation','Openness_Interpretation']\n",
    "sub_interp.head()"
   ]
  },
  {
   "cell_type": "markdown",
   "metadata": {},
   "source": [
    "## Merge dataframes \n",
    "The department dataframe is merged with the personality score dataframe, retaining all applicants within the various departments. "
   ]
  },
  {
   "cell_type": "code",
   "execution_count": 8,
   "metadata": {
    "ExecuteTime": {
     "end_time": "2020-03-17T03:02:22.695374Z",
     "start_time": "2020-03-17T03:02:22.649082Z"
    }
   },
   "outputs": [
    {
     "name": "stdout",
     "output_type": "stream",
     "text": [
      "['data', 'web dev', 'copywriting', 'design', 'strategy']\n"
     ]
    },
    {
     "data": {
      "text/html": [
       "<div>\n",
       "<style scoped>\n",
       "    .dataframe tbody tr th:only-of-type {\n",
       "        vertical-align: middle;\n",
       "    }\n",
       "\n",
       "    .dataframe tbody tr th {\n",
       "        vertical-align: top;\n",
       "    }\n",
       "\n",
       "    .dataframe thead th {\n",
       "        text-align: right;\n",
       "    }\n",
       "</style>\n",
       "<table border=\"1\" class=\"dataframe\">\n",
       "  <thead>\n",
       "    <tr style=\"text-align: right;\">\n",
       "      <th></th>\n",
       "      <th>Extraversion</th>\n",
       "      <th>Agreeableness</th>\n",
       "      <th>Conscientiousness</th>\n",
       "      <th>Neuroticism</th>\n",
       "      <th>Openness</th>\n",
       "      <th>Department</th>\n",
       "    </tr>\n",
       "  </thead>\n",
       "  <tbody>\n",
       "    <tr>\n",
       "      <th>0</th>\n",
       "      <td>30.0</td>\n",
       "      <td>40.0</td>\n",
       "      <td>48.0</td>\n",
       "      <td>36.0</td>\n",
       "      <td>42.0</td>\n",
       "      <td>data</td>\n",
       "    </tr>\n",
       "    <tr>\n",
       "      <th>1</th>\n",
       "      <td>42.0</td>\n",
       "      <td>46.0</td>\n",
       "      <td>46.0</td>\n",
       "      <td>40.0</td>\n",
       "      <td>42.0</td>\n",
       "      <td>data</td>\n",
       "    </tr>\n",
       "    <tr>\n",
       "      <th>2</th>\n",
       "      <td>28.0</td>\n",
       "      <td>40.0</td>\n",
       "      <td>40.0</td>\n",
       "      <td>38.0</td>\n",
       "      <td>42.0</td>\n",
       "      <td>data</td>\n",
       "    </tr>\n",
       "    <tr>\n",
       "      <th>3</th>\n",
       "      <td>30.0</td>\n",
       "      <td>38.0</td>\n",
       "      <td>38.0</td>\n",
       "      <td>40.0</td>\n",
       "      <td>38.0</td>\n",
       "      <td>data</td>\n",
       "    </tr>\n",
       "    <tr>\n",
       "      <th>4</th>\n",
       "      <td>28.0</td>\n",
       "      <td>34.0</td>\n",
       "      <td>46.0</td>\n",
       "      <td>38.0</td>\n",
       "      <td>36.0</td>\n",
       "      <td>data</td>\n",
       "    </tr>\n",
       "  </tbody>\n",
       "</table>\n",
       "</div>"
      ],
      "text/plain": [
       "   Extraversion  Agreeableness  Conscientiousness  Neuroticism  Openness  \\\n",
       "0          30.0           40.0               48.0         36.0      42.0   \n",
       "1          42.0           46.0               46.0         40.0      42.0   \n",
       "2          28.0           40.0               40.0         38.0      42.0   \n",
       "3          30.0           38.0               38.0         40.0      38.0   \n",
       "4          28.0           34.0               46.0         38.0      36.0   \n",
       "\n",
       "  Department  \n",
       "0       data  \n",
       "1       data  \n",
       "2       data  \n",
       "3       data  \n",
       "4       data  "
      ]
     },
     "execution_count": 8,
     "metadata": {},
     "output_type": "execute_result"
    }
   ],
   "source": [
    "# Department file is read in and concatenated with cleaned personality score data\n",
    "dept_df = pd.read_csv('departments.csv', sep = ';', header = 0, index_col = 'ID')\n",
    "dept_df.dropna(axis = 1, how = 'all', inplace = True)\n",
    "score_merged_df = pd.concat([subscale_df, dept_df], axis=1)\n",
    "score_merged_df['Department'] = score_merged_df['Department'].str.lower() \n",
    "print(score_merged_df['Department'].unique().tolist())\n",
    "score_merged_df.head()"
   ]
  },
  {
   "cell_type": "markdown",
   "metadata": {},
   "source": [
    "## Data Visualization \n",
    "A histogram plotting the personality scores with the various departments is depicted. "
   ]
  },
  {
   "cell_type": "code",
   "execution_count": 9,
   "metadata": {
    "ExecuteTime": {
     "end_time": "2020-03-17T03:02:22.714136Z",
     "start_time": "2020-03-17T03:02:22.702286Z"
    }
   },
   "outputs": [],
   "source": [
    "# A function is defined to plot a stacked histogram for every departments personality scores \n",
    "def stacked_histogram(dept, title, x_lab, y_lab):\n",
    "    \n",
    "# An array of the personality scores by traits is made for each department \n",
    "    O = list(score_merged_df[score_merged_df['Department'] == dept]['Openness'])\n",
    "    C = list(score_merged_df[score_merged_df['Department'] == dept]['Conscientiousness'])\n",
    "    E = list(score_merged_df[score_merged_df['Department'] == dept]['Extraversion'])\n",
    "    A = list(score_merged_df[score_merged_df['Department'] == dept]['Agreeableness'])\n",
    "    N = list(score_merged_df[score_merged_df['Department'] == dept]['Neuroticism'])\n",
    "\n",
    "    personality_traits = [O, C, E, A, N]\n",
    "    \n",
    "# Assign colours and labels for each personality trait    \n",
    "    colours = ['#E69F00', '#56B4E9', '#F0E442', '#009E73', '#D55E00']\n",
    "    labels = ['Openness', 'Conscientiousness', 'Extraversion','Agreeableness', 'Neuroticism']\n",
    "    \n",
    "# Plot the stacjed histogram for each department\n",
    "    plt.hist(personality_traits, color = colours, stacked = True, label = labels)\n",
    "    plt.xlabel(x_lab)\n",
    "    plt.ylabel(y_lab)\n",
    "    plt.title(title)\n",
    "    plt.legend()\n",
    "    plt.show()"
   ]
  },
  {
   "cell_type": "code",
   "execution_count": 10,
   "metadata": {
    "ExecuteTime": {
     "end_time": "2020-03-17T03:02:23.288270Z",
     "start_time": "2020-03-17T03:02:22.722058Z"
    }
   },
   "outputs": [
    {
     "data": {
      "image/png": "[encoded data removed]",
      "text/plain": [
       "<Figure size 432x288 with 1 Axes>"
      ]
     },
     "metadata": {
      "needs_background": "light"
     },
     "output_type": "display_data"
    }
   ],
   "source": [
    "# Each department's parameters are defined in order to pass to the function defined above for plotting\n",
    "dept_name = 'data'\n",
    "x_label = 'Score distribution'\n",
    "y_label = 'Personality traits'\n",
    "chart_title = 'Data department personality scores'\n",
    "\n",
    "# The above-defined function is now called \n",
    "stacked_histogram(dept_name, chart_title, x_label, y_label)"
   ]
  },
  {
   "cell_type": "code",
   "execution_count": 11,
   "metadata": {
    "ExecuteTime": {
     "end_time": "2020-03-17T03:02:23.795987Z",
     "start_time": "2020-03-17T03:02:23.292956Z"
    }
   },
   "outputs": [
    {
     "data": {
      "image/png": "[encoded data removed]",
      "text/plain": [
       "<Figure size 432x288 with 1 Axes>"
      ]
     },
     "metadata": {
      "needs_background": "light"
     },
     "output_type": "display_data"
    }
   ],
   "source": [
    "dept_name = 'web dev'\n",
    "x_label = 'Score distribution'\n",
    "y_label = 'Personality traits'\n",
    "chart_title = 'Web development department personality scores'\n",
    "\n",
    "# The above-defined function is now called \n",
    "stacked_histogram(dept_name, chart_title, x_label, y_label)"
   ]
  },
  {
   "cell_type": "code",
   "execution_count": 12,
   "metadata": {
    "ExecuteTime": {
     "end_time": "2020-03-17T03:02:24.286115Z",
     "start_time": "2020-03-17T03:02:23.805870Z"
    }
   },
   "outputs": [
    {
     "data": {
      "image/png": "[encoded data removed]",
      "text/plain": [
       "<Figure size 432x288 with 1 Axes>"
      ]
     },
     "metadata": {
      "needs_background": "light"
     },
     "output_type": "display_data"
    }
   ],
   "source": [
    "dept_name = 'copywriting'\n",
    "x_label = 'Score distribution'\n",
    "y_label = 'Personality traits'\n",
    "chart_title = 'Copywriting department personality scores'\n",
    "\n",
    "# The above-defined function is now called \n",
    "stacked_histogram(dept_name, chart_title, x_label, y_label)"
   ]
  },
  {
   "cell_type": "code",
   "execution_count": 13,
   "metadata": {
    "ExecuteTime": {
     "end_time": "2020-03-17T03:02:24.794897Z",
     "start_time": "2020-03-17T03:02:24.298048Z"
    }
   },
   "outputs": [
    {
     "data": {
      "image/png": "[encoded data removed]",
      "text/plain": [
       "<Figure size 432x288 with 1 Axes>"
      ]
     },
     "metadata": {
      "needs_background": "light"
     },
     "output_type": "display_data"
    }
   ],
   "source": [
    "dept_name = 'design'\n",
    "x_label = 'Score distribution'\n",
    "y_label = 'Personality traits'\n",
    "chart_title = 'Design department personality scores'\n",
    "\n",
    "# The above-defined function is now called \n",
    "stacked_histogram(dept_name, chart_title, x_label, y_label)"
   ]
  },
  {
   "cell_type": "code",
   "execution_count": 14,
   "metadata": {
    "ExecuteTime": {
     "end_time": "2020-03-17T03:02:25.237815Z",
     "start_time": "2020-03-17T03:02:24.799616Z"
    }
   },
   "outputs": [
    {
     "data": {
      "image/png": "[encoded data removed]",
      "text/plain": [
       "<Figure size 432x288 with 1 Axes>"
      ]
     },
     "metadata": {
      "needs_background": "light"
     },
     "output_type": "display_data"
    }
   ],
   "source": [
    "dept_name = 'strategy'\n",
    "x_label = 'Score distribution'\n",
    "y_label = 'Personality traits'\n",
    "chart_title = 'Strategy department personality scores'\n",
    "\n",
    "# The above-defined function is now called \n",
    "stacked_histogram(dept_name, chart_title, x_label, y_label)"
   ]
  },
  {
   "cell_type": "markdown",
   "metadata": {},
   "source": [
    "## Dataframe Filtration\n",
    "The merged dataframe is filtered for candidates that have a 'low' label on the Neuroticsm, Conscientiousness and Agreeableness traits. Such identified candidates, by department, are placed in a new column with the tag 'high risk'. "
   ]
  },
  {
   "cell_type": "code",
   "execution_count": 15,
   "metadata": {
    "ExecuteTime": {
     "end_time": "2020-03-17T03:02:25.284591Z",
     "start_time": "2020-03-17T03:02:25.242644Z"
    }
   },
   "outputs": [
    {
     "data": {
      "text/html": [
       "<div>\n",
       "<style scoped>\n",
       "    .dataframe tbody tr th:only-of-type {\n",
       "        vertical-align: middle;\n",
       "    }\n",
       "\n",
       "    .dataframe tbody tr th {\n",
       "        vertical-align: top;\n",
       "    }\n",
       "\n",
       "    .dataframe thead th {\n",
       "        text-align: right;\n",
       "    }\n",
       "</style>\n",
       "<table border=\"1\" class=\"dataframe\">\n",
       "  <thead>\n",
       "    <tr style=\"text-align: right;\">\n",
       "      <th></th>\n",
       "      <th>Extraversion_Interpretation</th>\n",
       "      <th>Agreeableness_Interpretation</th>\n",
       "      <th>Conscientiousness_Interpretation</th>\n",
       "      <th>Neuroticism_Interpretation</th>\n",
       "      <th>Openness_Interpretation</th>\n",
       "      <th>Department</th>\n",
       "    </tr>\n",
       "  </thead>\n",
       "  <tbody>\n",
       "    <tr>\n",
       "      <th>0</th>\n",
       "      <td>medium</td>\n",
       "      <td>high</td>\n",
       "      <td>high</td>\n",
       "      <td>high</td>\n",
       "      <td>high</td>\n",
       "      <td>data</td>\n",
       "    </tr>\n",
       "    <tr>\n",
       "      <th>1</th>\n",
       "      <td>high</td>\n",
       "      <td>high</td>\n",
       "      <td>high</td>\n",
       "      <td>high</td>\n",
       "      <td>high</td>\n",
       "      <td>data</td>\n",
       "    </tr>\n",
       "    <tr>\n",
       "      <th>2</th>\n",
       "      <td>medium</td>\n",
       "      <td>high</td>\n",
       "      <td>high</td>\n",
       "      <td>high</td>\n",
       "      <td>high</td>\n",
       "      <td>data</td>\n",
       "    </tr>\n",
       "    <tr>\n",
       "      <th>3</th>\n",
       "      <td>medium</td>\n",
       "      <td>high</td>\n",
       "      <td>high</td>\n",
       "      <td>high</td>\n",
       "      <td>high</td>\n",
       "      <td>data</td>\n",
       "    </tr>\n",
       "    <tr>\n",
       "      <th>4</th>\n",
       "      <td>medium</td>\n",
       "      <td>medium</td>\n",
       "      <td>high</td>\n",
       "      <td>high</td>\n",
       "      <td>high</td>\n",
       "      <td>data</td>\n",
       "    </tr>\n",
       "  </tbody>\n",
       "</table>\n",
       "</div>"
      ],
      "text/plain": [
       "  Extraversion_Interpretation Agreeableness_Interpretation  \\\n",
       "0                      medium                         high   \n",
       "1                        high                         high   \n",
       "2                      medium                         high   \n",
       "3                      medium                         high   \n",
       "4                      medium                       medium   \n",
       "\n",
       "  Conscientiousness_Interpretation Neuroticism_Interpretation  \\\n",
       "0                             high                       high   \n",
       "1                             high                       high   \n",
       "2                             high                       high   \n",
       "3                             high                       high   \n",
       "4                             high                       high   \n",
       "\n",
       "  Openness_Interpretation Department  \n",
       "0                    high       data  \n",
       "1                    high       data  \n",
       "2                    high       data  \n",
       "3                    high       data  \n",
       "4                    high       data  "
      ]
     },
     "execution_count": 15,
     "metadata": {},
     "output_type": "execute_result"
    }
   ],
   "source": [
    "# Department file is read in and concatenated with  subscale interpretation dataframe\n",
    "dept_df = pd.read_csv('departments.csv', sep = ';', header = 0, index_col = 'ID')\n",
    "dept_df.dropna(axis = 1, how = 'all', inplace = True)\n",
    "interp_merged_df = pd.concat([sub_interp, dept_df], axis=1)\n",
    "interp_merged_df['Department'] = interp_merged_df['Department'].str.lower() \n",
    "interp_merged_df.head()"
   ]
  },
  {
   "cell_type": "code",
   "execution_count": 16,
   "metadata": {
    "ExecuteTime": {
     "end_time": "2020-03-17T03:02:25.309967Z",
     "start_time": "2020-03-17T03:02:25.289140Z"
    }
   },
   "outputs": [
    {
     "name": "stdout",
     "output_type": "stream",
     "text": [
      "0 0\n"
     ]
    }
   ],
   "source": [
    "# Summing the high and medium totals for each department by subscale \n",
    "departments = ['data', 'web dev', 'strategy', 'design', 'copywriting']\n",
    "\n",
    "for i in range(len(departments)):\n",
    "    subscale_df = interp_merged_df.loc[interp_merged_df['Department'] == i]\n",
    "ahigh_sum = (subscale_df['Agreeableness_Interpretation'] == 'high').count() \n",
    "amed_sum = (subscale_df['Agreeableness_Interpretation'] == 'medium').count()\n",
    "# subscale_sums = [(subscale_df[i] == 'high').count() + (subscale_df[i] == 'medium').count() for i in list(subscale_df.columns)]\n",
    "# subscale_sums \n",
    "print(ahigh_sum, amed_sum)\n"
   ]
  },
  {
   "cell_type": "code",
   "execution_count": 17,
   "metadata": {
    "ExecuteTime": {
     "end_time": "2020-03-17T03:02:25.323578Z",
     "start_time": "2020-03-17T03:02:25.314201Z"
    }
   },
   "outputs": [],
   "source": [
    "# A function is defined to filter the merged subscale interpretation dataframe for applicants who scored 'low' on \n",
    "# Extraversion, Conscientiousness or Agreeableness. New dataframes are created for each trait with the low scoring \n",
    "# applicants ID numbers as well as a high risk tag in a new column\n",
    "def high_risk_filter(trait_col):\n",
    "    \n",
    "    filtered_df = interp_merged_df.filter([trait_col,'Department'], axis = 1)\n",
    "    low_df = filtered_df[filtered_df[trait_col] == 'low']\n",
    "    low_df.insert(2,'High Risk Applicants', 'high risk', allow_duplicates = False)\n",
    "    return low_df.head()\n"
   ]
  },
  {
   "cell_type": "code",
   "execution_count": 18,
   "metadata": {
    "ExecuteTime": {
     "end_time": "2020-03-17T03:02:25.347062Z",
     "start_time": "2020-03-17T03:02:25.328012Z"
    }
   },
   "outputs": [
    {
     "data": {
      "text/html": [
       "<div>\n",
       "<style scoped>\n",
       "    .dataframe tbody tr th:only-of-type {\n",
       "        vertical-align: middle;\n",
       "    }\n",
       "\n",
       "    .dataframe tbody tr th {\n",
       "        vertical-align: top;\n",
       "    }\n",
       "\n",
       "    .dataframe thead th {\n",
       "        text-align: right;\n",
       "    }\n",
       "</style>\n",
       "<table border=\"1\" class=\"dataframe\">\n",
       "  <thead>\n",
       "    <tr style=\"text-align: right;\">\n",
       "      <th></th>\n",
       "      <th>Extraversion_Interpretation</th>\n",
       "      <th>Department</th>\n",
       "      <th>High Risk Applicants</th>\n",
       "    </tr>\n",
       "  </thead>\n",
       "  <tbody>\n",
       "    <tr>\n",
       "      <th>11</th>\n",
       "      <td>low</td>\n",
       "      <td>data</td>\n",
       "      <td>high risk</td>\n",
       "    </tr>\n",
       "    <tr>\n",
       "      <th>14</th>\n",
       "      <td>low</td>\n",
       "      <td>data</td>\n",
       "      <td>high risk</td>\n",
       "    </tr>\n",
       "    <tr>\n",
       "      <th>18</th>\n",
       "      <td>low</td>\n",
       "      <td>data</td>\n",
       "      <td>high risk</td>\n",
       "    </tr>\n",
       "    <tr>\n",
       "      <th>19</th>\n",
       "      <td>low</td>\n",
       "      <td>data</td>\n",
       "      <td>high risk</td>\n",
       "    </tr>\n",
       "    <tr>\n",
       "      <th>25</th>\n",
       "      <td>low</td>\n",
       "      <td>data</td>\n",
       "      <td>high risk</td>\n",
       "    </tr>\n",
       "  </tbody>\n",
       "</table>\n",
       "</div>"
      ],
      "text/plain": [
       "   Extraversion_Interpretation Department High Risk Applicants\n",
       "11                         low       data            high risk\n",
       "14                         low       data            high risk\n",
       "18                         low       data            high risk\n",
       "19                         low       data            high risk\n",
       "25                         low       data            high risk"
      ]
     },
     "execution_count": 18,
     "metadata": {},
     "output_type": "execute_result"
    }
   ],
   "source": [
    "# The function above takes in the various parameters below to create new high risk dataframes for each trait\n",
    "trait_col = 'Extraversion_Interpretation'\n",
    "\n",
    "high_risk_filter(trait_col)"
   ]
  },
  {
   "cell_type": "code",
   "execution_count": 19,
   "metadata": {
    "ExecuteTime": {
     "end_time": "2020-03-17T03:02:25.370188Z",
     "start_time": "2020-03-17T03:02:25.351727Z"
    }
   },
   "outputs": [
    {
     "data": {
      "text/html": [
       "<div>\n",
       "<style scoped>\n",
       "    .dataframe tbody tr th:only-of-type {\n",
       "        vertical-align: middle;\n",
       "    }\n",
       "\n",
       "    .dataframe tbody tr th {\n",
       "        vertical-align: top;\n",
       "    }\n",
       "\n",
       "    .dataframe thead th {\n",
       "        text-align: right;\n",
       "    }\n",
       "</style>\n",
       "<table border=\"1\" class=\"dataframe\">\n",
       "  <thead>\n",
       "    <tr style=\"text-align: right;\">\n",
       "      <th></th>\n",
       "      <th>Agreeableness_Interpretation</th>\n",
       "      <th>Department</th>\n",
       "      <th>High Risk Applicants</th>\n",
       "    </tr>\n",
       "  </thead>\n",
       "  <tbody>\n",
       "    <tr>\n",
       "      <th>25</th>\n",
       "      <td>low</td>\n",
       "      <td>data</td>\n",
       "      <td>high risk</td>\n",
       "    </tr>\n",
       "    <tr>\n",
       "      <th>85</th>\n",
       "      <td>low</td>\n",
       "      <td>web dev</td>\n",
       "      <td>high risk</td>\n",
       "    </tr>\n",
       "    <tr>\n",
       "      <th>546</th>\n",
       "      <td>low</td>\n",
       "      <td>strategy</td>\n",
       "      <td>high risk</td>\n",
       "    </tr>\n",
       "    <tr>\n",
       "      <th>716</th>\n",
       "      <td>low</td>\n",
       "      <td>strategy</td>\n",
       "      <td>high risk</td>\n",
       "    </tr>\n",
       "    <tr>\n",
       "      <th>801</th>\n",
       "      <td>low</td>\n",
       "      <td>strategy</td>\n",
       "      <td>high risk</td>\n",
       "    </tr>\n",
       "  </tbody>\n",
       "</table>\n",
       "</div>"
      ],
      "text/plain": [
       "    Agreeableness_Interpretation Department High Risk Applicants\n",
       "25                           low       data            high risk\n",
       "85                           low    web dev            high risk\n",
       "546                          low   strategy            high risk\n",
       "716                          low   strategy            high risk\n",
       "801                          low   strategy            high risk"
      ]
     },
     "execution_count": 19,
     "metadata": {},
     "output_type": "execute_result"
    }
   ],
   "source": [
    "trait_col = 'Agreeableness_Interpretation'\n",
    "\n",
    "high_risk_filter(trait_col)"
   ]
  },
  {
   "cell_type": "code",
   "execution_count": 20,
   "metadata": {
    "ExecuteTime": {
     "end_time": "2020-03-17T03:02:25.393221Z",
     "start_time": "2020-03-17T03:02:25.374993Z"
    }
   },
   "outputs": [
    {
     "data": {
      "text/html": [
       "<div>\n",
       "<style scoped>\n",
       "    .dataframe tbody tr th:only-of-type {\n",
       "        vertical-align: middle;\n",
       "    }\n",
       "\n",
       "    .dataframe tbody tr th {\n",
       "        vertical-align: top;\n",
       "    }\n",
       "\n",
       "    .dataframe thead th {\n",
       "        text-align: right;\n",
       "    }\n",
       "</style>\n",
       "<table border=\"1\" class=\"dataframe\">\n",
       "  <thead>\n",
       "    <tr style=\"text-align: right;\">\n",
       "      <th></th>\n",
       "      <th>Conscientiousness_Interpretation</th>\n",
       "      <th>Department</th>\n",
       "      <th>High Risk Applicants</th>\n",
       "    </tr>\n",
       "  </thead>\n",
       "  <tbody>\n",
       "    <tr>\n",
       "      <th>34</th>\n",
       "      <td>low</td>\n",
       "      <td>web dev</td>\n",
       "      <td>high risk</td>\n",
       "    </tr>\n",
       "    <tr>\n",
       "      <th>129</th>\n",
       "      <td>low</td>\n",
       "      <td>web dev</td>\n",
       "      <td>high risk</td>\n",
       "    </tr>\n",
       "    <tr>\n",
       "      <th>132</th>\n",
       "      <td>low</td>\n",
       "      <td>web dev</td>\n",
       "      <td>high risk</td>\n",
       "    </tr>\n",
       "    <tr>\n",
       "      <th>286</th>\n",
       "      <td>low</td>\n",
       "      <td>design</td>\n",
       "      <td>high risk</td>\n",
       "    </tr>\n",
       "    <tr>\n",
       "      <th>405</th>\n",
       "      <td>low</td>\n",
       "      <td>strategy</td>\n",
       "      <td>high risk</td>\n",
       "    </tr>\n",
       "  </tbody>\n",
       "</table>\n",
       "</div>"
      ],
      "text/plain": [
       "    Conscientiousness_Interpretation Department High Risk Applicants\n",
       "34                               low    web dev            high risk\n",
       "129                              low    web dev            high risk\n",
       "132                              low    web dev            high risk\n",
       "286                              low     design            high risk\n",
       "405                              low   strategy            high risk"
      ]
     },
     "execution_count": 20,
     "metadata": {},
     "output_type": "execute_result"
    }
   ],
   "source": [
    "trait_col = 'Conscientiousness_Interpretation'\n",
    "\n",
    "high_risk_filter(trait_col)"
   ]
  },
  {
   "cell_type": "markdown",
   "metadata": {},
   "source": [
    "## Count Dataframe\n",
    "A new dataframe is made with the count of the number of applicants in each score category within each subscale and department. The dataframe hosts the applicants that scored medium to high for the said subscale and are thus under consideration."
   ]
  },
  {
   "cell_type": "code",
   "execution_count": 21,
   "metadata": {
    "ExecuteTime": {
     "end_time": "2020-03-17T03:02:25.404153Z",
     "start_time": "2020-03-17T03:02:25.397670Z"
    }
   },
   "outputs": [],
   "source": [
    "# A new dataframe is created to house the number of low risk applicants by departments and personality traits\n",
    "low_risk_df = pd.DataFrame()"
   ]
  },
  {
   "cell_type": "code",
   "execution_count": 24,
   "metadata": {
    "ExecuteTime": {
     "end_time": "2020-03-17T03:03:14.005193Z",
     "start_time": "2020-03-17T03:03:13.952948Z"
    }
   },
   "outputs": [
    {
     "data": {
      "text/html": [
       "<div>\n",
       "<style scoped>\n",
       "    .dataframe tbody tr th:only-of-type {\n",
       "        vertical-align: middle;\n",
       "    }\n",
       "\n",
       "    .dataframe tbody tr th {\n",
       "        vertical-align: top;\n",
       "    }\n",
       "\n",
       "    .dataframe thead th {\n",
       "        text-align: right;\n",
       "    }\n",
       "</style>\n",
       "<table border=\"1\" class=\"dataframe\">\n",
       "  <thead>\n",
       "    <tr style=\"text-align: right;\">\n",
       "      <th></th>\n",
       "      <th>data</th>\n",
       "      <th>web dev</th>\n",
       "      <th>strategy</th>\n",
       "      <th>design</th>\n",
       "      <th>copywriting</th>\n",
       "    </tr>\n",
       "    <tr>\n",
       "      <th>subscale</th>\n",
       "      <th></th>\n",
       "      <th></th>\n",
       "      <th></th>\n",
       "      <th></th>\n",
       "      <th></th>\n",
       "    </tr>\n",
       "  </thead>\n",
       "  <tbody>\n",
       "    <tr>\n",
       "      <th>Extraversion_Interpretation</th>\n",
       "      <td>658</td>\n",
       "      <td>662</td>\n",
       "      <td>898</td>\n",
       "      <td>240</td>\n",
       "      <td>652</td>\n",
       "    </tr>\n",
       "    <tr>\n",
       "      <th>Agreeableness_Interpretation</th>\n",
       "      <td>658</td>\n",
       "      <td>662</td>\n",
       "      <td>898</td>\n",
       "      <td>240</td>\n",
       "      <td>652</td>\n",
       "    </tr>\n",
       "    <tr>\n",
       "      <th>Conscientiousness_Interpretation</th>\n",
       "      <td>658</td>\n",
       "      <td>662</td>\n",
       "      <td>898</td>\n",
       "      <td>240</td>\n",
       "      <td>652</td>\n",
       "    </tr>\n",
       "    <tr>\n",
       "      <th>Neuroticism_Interpretation</th>\n",
       "      <td>658</td>\n",
       "      <td>662</td>\n",
       "      <td>898</td>\n",
       "      <td>240</td>\n",
       "      <td>652</td>\n",
       "    </tr>\n",
       "    <tr>\n",
       "      <th>Openness_Interpretation</th>\n",
       "      <td>658</td>\n",
       "      <td>662</td>\n",
       "      <td>898</td>\n",
       "      <td>240</td>\n",
       "      <td>652</td>\n",
       "    </tr>\n",
       "  </tbody>\n",
       "</table>\n",
       "</div>"
      ],
      "text/plain": [
       "                                  data  web dev  strategy  design  copywriting\n",
       "subscale                                                                      \n",
       "Extraversion_Interpretation        658      662       898     240          652\n",
       "Agreeableness_Interpretation       658      662       898     240          652\n",
       "Conscientiousness_Interpretation   658      662       898     240          652\n",
       "Neuroticism_Interpretation         658      662       898     240          652\n",
       "Openness_Interpretation            658      662       898     240          652"
      ]
     },
     "execution_count": 24,
     "metadata": {},
     "output_type": "execute_result"
    }
   ],
   "source": [
    "# A dataframe is created for every department \n",
    "dept_list = ['data', 'web dev', 'strategy', 'design', 'copywriting']\n",
    "\n",
    "for d in dept_list:\n",
    "    dept_df = interp_merged_df[interp_merged_df['Department'] == d].drop(labels = 'Department', axis = 1)\n",
    "    \n",
    "    \n",
    "# A list comprehension is used to sum the highs and mediums of each personality trait by department \n",
    "    trait_list = list(dept_df.columns)\n",
    "    trait_sums = [(dept_df[i] == 'high').count() + (dept_df[i] == 'medium').count() for i in trait_list]\n",
    "    \n",
    "# The trait list is set as the index for the dataframe that is now populated low risk totals for each personality trait\n",
    "# by department.\n",
    "    low_risk_df[d] = trait_sums\n",
    "    low_risk_df.index = trait_list\n",
    "    low_risk_df.index.names = ['subscale']                                                                                \n",
    "    \n",
    "low_risk_df.head()"
   ]
  },
  {
   "cell_type": "code",
   "execution_count": null,
   "metadata": {},
   "outputs": [],
   "source": []
  }
 ],
 "metadata": {
  "kernelspec": {
   "display_name": "Python 3",
   "language": "python",
   "name": "python3"
  },
  "language_info": {
   "codemirror_mode": {
    "name": "ipython",
    "version": 3
   },
   "file_extension": ".py",
   "mimetype": "text/x-python",
   "name": "python",
   "nbconvert_exporter": "python",
   "pygments_lexer": "ipython3",
   "version": "3.7.5"
  },
  "toc": {
   "base_numbering": 1,
   "nav_menu": {},
   "number_sections": true,
   "sideBar": true,
   "skip_h1_title": false,
   "title_cell": "Table of Contents",
   "title_sidebar": "Contents",
   "toc_cell": false,
   "toc_position": {},
   "toc_section_display": true,
   "toc_window_display": false
  },
  "varInspector": {
   "cols": {
    "lenName": 16,
    "lenType": 16,
    "lenVar": 40
   },
   "kernels_config": {
    "python": {
     "delete_cmd_postfix": "",
     "delete_cmd_prefix": "del ",
     "library": "var_list.py",
     "varRefreshCmd": "print(var_dic_list())"
    },
    "r": {
     "delete_cmd_postfix": ") ",
     "delete_cmd_prefix": "rm(",
     "library": "var_list.r",
     "varRefreshCmd": "cat(var_dic_list()) "
    }
   },
   "types_to_exclude": [
    "module",
    "function",
    "builtin_function_or_method",
    "instance",
    "_Feature"
   ],
   "window_display": false
  }
 },
 "nbformat": 4,
 "nbformat_minor": 2
}
